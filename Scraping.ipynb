{
  "nbformat": 4,
  "nbformat_minor": 0,
  "metadata": {
    "colab": {
      "name": "Scraping.ipynb",
      "provenance": [],
      "toc_visible": true,
      "authorship_tag": "ABX9TyOkhAZIUmGPszZEn1taXArh",
      "include_colab_link": true
    },
    "kernelspec": {
      "name": "python3",
      "display_name": "Python 3"
    }
  },
  "cells": [
    {
      "cell_type": "markdown",
      "metadata": {
        "id": "view-in-github",
        "colab_type": "text"
      },
      "source": [
        "<a href=\"https://colab.research.google.com/github/Strix9289/How-to-use-library/blob/master/Scraping.ipynb\" target=\"_parent\"><img src=\"https://colab.research.google.com/assets/colab-badge.svg\" alt=\"Open In Colab\"/></a>"
      ]
    },
    {
      "cell_type": "markdown",
      "metadata": {
        "id": "N_smDj4kw9es"
      },
      "source": [
        "# クローリングとスクレイピング"
      ]
    },
    {
      "cell_type": "markdown",
      "metadata": {
        "id": "NQ-iRQIK2iCT"
      },
      "source": [
        "## urllib"
      ]
    },
    {
      "cell_type": "code",
      "metadata": {
        "id": "ihIhMPNd2lW5"
      },
      "source": [
        "#ライブラリの読み込み\n",
        "import urllib.request"
      ],
      "execution_count": 3,
      "outputs": []
    },
    {
      "cell_type": "markdown",
      "metadata": {
        "id": "UNJ-Ev3g4HEK"
      },
      "source": [
        "### ダウンロードして直接保存\n",
        "\n",
        "- **urlretrieve(url, savename)**：urlをダウンロードしてsavenameで現在のファイルに保存する"
      ]
    },
    {
      "cell_type": "code",
      "metadata": {
        "id": "DZVg7vhHxDiH",
        "outputId": "470d3d0f-7e4b-43ac-c10e-db85c8ce2805",
        "colab": {
          "base_uri": "https://localhost:8080/",
          "height": 34
        }
      },
      "source": [
        "#画像ファイルのアドレス\n",
        "url = \"https://www.library.osaka-u.ac.jp/img/main_image.png\"\n",
        "savename = \"test.png\"\n",
        "\n",
        "urllib.request.urlretrieve(url, savename)\n",
        "print(\"保存しました\")"
      ],
      "execution_count": 8,
      "outputs": [
        {
          "output_type": "stream",
          "text": [
            "保存しました\n"
          ],
          "name": "stdout"
        }
      ]
    },
    {
      "cell_type": "markdown",
      "metadata": {
        "id": "CirVCJGZ5BSb"
      },
      "source": [
        "### ダウンロードして一時的にメモリに保存\n",
        "- **urlopen(url).read()**：\n"
      ]
    },
    {
      "cell_type": "code",
      "metadata": {
        "id": "B2vozVUo50IJ",
        "outputId": "0d739c6f-eeea-4193-db62-242316c836fd",
        "colab": {
          "base_uri": "https://localhost:8080/",
          "height": 34
        }
      },
      "source": [
        "#一時的にメモリ上に取得\n",
        "mem = urllib.request.urlopen(url).read()\n",
        "\n",
        "with open(savename, mode='wb') as f:\n",
        "  f.write(mem)\n",
        "  print('保存しました')"
      ],
      "execution_count": 9,
      "outputs": [
        {
          "output_type": "stream",
          "text": [
            "保存しました\n"
          ],
          "name": "stdout"
        }
      ]
    }
  ]
}