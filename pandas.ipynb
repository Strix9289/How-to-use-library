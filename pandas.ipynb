{
  "nbformat": 4,
  "nbformat_minor": 0,
  "metadata": {
    "colab": {
      "name": "pandas.ipynb",
      "provenance": [],
      "authorship_tag": "ABX9TyPfF6DpDEIP+NP0A2LQKYvu",
      "include_colab_link": true
    },
    "kernelspec": {
      "name": "python3",
      "display_name": "Python 3"
    }
  },
  "cells": [
    {
      "cell_type": "markdown",
      "metadata": {
        "id": "view-in-github",
        "colab_type": "text"
      },
      "source": [
        "<a href=\"https://colab.research.google.com/github/Strix9289/How-to-use-library/blob/master/pandas.ipynb\" target=\"_parent\"><img src=\"https://colab.research.google.com/assets/colab-badge.svg\" alt=\"Open In Colab\"/></a>"
      ]
    },
    {
      "cell_type": "markdown",
      "metadata": {
        "id": "Y_4bW7pDMZ5f",
        "colab_type": "text"
      },
      "source": [
        "# Pandasの基本操作"
      ]
    },
    {
      "cell_type": "code",
      "metadata": {
        "id": "M2-gX-82Mhgh",
        "colab_type": "code",
        "colab": {}
      },
      "source": [
        "import numpy as np\n",
        "import pandas as pd\n",
        "import matplotlib.pyplot as plt"
      ],
      "execution_count": 2,
      "outputs": []
    },
    {
      "cell_type": "code",
      "metadata": {
        "id": "WcE5jKH50V7x",
        "colab_type": "code",
        "colab": {
          "base_uri": "https://localhost:8080/",
          "height": 36
        },
        "outputId": "8202a314-8eb8-454c-988a-923156b8cd27"
      },
      "source": [
        "h = \"http\"\n",
        "p = \"dog\"\n",
        "h+p"
      ],
      "execution_count": 45,
      "outputs": [
        {
          "output_type": "execute_result",
          "data": {
            "application/vnd.google.colaboratory.intrinsic+json": {
              "type": "string"
            },
            "text/plain": [
              "'httpdog'"
            ]
          },
          "metadata": {
            "tags": []
          },
          "execution_count": 45
        }
      ]
    },
    {
      "cell_type": "markdown",
      "metadata": {
        "id": "S_QMID5SELbE",
        "colab_type": "text"
      },
      "source": [
        "## データサイエンス100本ノック様のデータをお借りしています。\n",
        "\n",
        "https://github.com/The-Japan-DataScientist-Society/100knocks-preprocess"
      ]
    },
    {
      "cell_type": "code",
      "metadata": {
        "id": "EunmgkDHu2jz",
        "colab_type": "code",
        "colab": {
          "base_uri": "https://localhost:8080/",
          "height": 181
        },
        "outputId": "75bfc9b5-d6c1-448e-9576-6459918e9071"
      },
      "source": [
        "import urllib\n",
        "from io import StringIO\n",
        "url = \"https://raw.githubusercontent.com/The-Japan-DataScientist-Society/100knocks-preprocess/master/docker/work/data/\"\n",
        "\n",
        "def read_csv(url):\n",
        "    print(url)\n",
        "    res = urllib.request.urlopen(url)\n",
        "    res = res.read().decode(\"utf-8\")\n",
        "    df = pd.read_csv(StringIO(res))\n",
        "    return df\n",
        "df_customer = read_csv(url+\"customer.csv\")\n",
        "df_category = read_csv(url+\"category.csv\")\n",
        "df_geocode = read_csv(url+\"geocode.csv\")\n",
        "df_product = read_csv(url+\"product.csv\")\n",
        "df_receipt = read_csv(url+\"receipt.csv\")\n",
        "df_store = read_csv(url+\"store.csv\")"
      ],
      "execution_count": 48,
      "outputs": [
        {
          "output_type": "stream",
          "text": [
            "https://raw.githubusercontent.com/The-Japan-DataScientist-Society/100knocks-preprocess/master/docker/work/data/customer.csv\n",
            "https://raw.githubusercontent.com/The-Japan-DataScientist-Society/100knocks-preprocess/master/docker/work/data/category.csv\n",
            "https://raw.githubusercontent.com/The-Japan-DataScientist-Society/100knocks-preprocess/master/docker/work/data/geocode.csv\n"
          ],
          "name": "stdout"
        },
        {
          "output_type": "stream",
          "text": [
            "/usr/local/lib/python3.6/dist-packages/IPython/core/interactiveshell.py:2822: DtypeWarning: Columns (4) have mixed types.Specify dtype option on import or set low_memory=False.\n",
            "  if self.run_code(code, result):\n"
          ],
          "name": "stderr"
        },
        {
          "output_type": "stream",
          "text": [
            "https://raw.githubusercontent.com/The-Japan-DataScientist-Society/100knocks-preprocess/master/docker/work/data/product.csv\n",
            "https://raw.githubusercontent.com/The-Japan-DataScientist-Society/100knocks-preprocess/master/docker/work/data/receipt.csv\n",
            "https://raw.githubusercontent.com/The-Japan-DataScientist-Society/100knocks-preprocess/master/docker/work/data/store.csv\n"
          ],
          "name": "stdout"
        }
      ]
    },
    {
      "cell_type": "markdown",
      "metadata": {
        "id": "XJ6xr_L3GjQZ",
        "colab_type": "text"
      },
      "source": [
        "## 行・列の操作"
      ]
    },
    {
      "cell_type": "markdown",
      "metadata": {
        "id": "yKk32VowGm-F",
        "colab_type": "text"
      },
      "source": [
        "### Series型とDataFrame型\n",
        "Pandasでは、一列のことをSeries型。二列以上のことをDataFrame型という。\n",
        "列名を指定する際は、ブラケットの中に列名を渡す。\n",
        "複数の列を指定する場合は、ブラケットの中にリストで列名を渡す。\n"
      ]
    },
    {
      "cell_type": "code",
      "metadata": {
        "id": "cz5FTk0J7MU_",
        "colab_type": "code",
        "colab": {
          "base_uri": "https://localhost:8080/",
          "height": 125
        },
        "outputId": "752a248e-217a-42f9-8467-2ec47a705228"
      },
      "source": [
        "df_customer[\"customer_id\"].head()"
      ],
      "execution_count": 49,
      "outputs": [
        {
          "output_type": "execute_result",
          "data": {
            "text/plain": [
              "0    CS021313000114\n",
              "1    CS037613000071\n",
              "2    CS031415000172\n",
              "3    CS028811000001\n",
              "4    CS001215000145\n",
              "Name: customer_id, dtype: object"
            ]
          },
          "metadata": {
            "tags": []
          },
          "execution_count": 49
        }
      ]
    },
    {
      "cell_type": "code",
      "metadata": {
        "id": "v9DaqsIe7ksy",
        "colab_type": "code",
        "colab": {
          "base_uri": "https://localhost:8080/",
          "height": 202
        },
        "outputId": "5e9e7adf-7766-4838-fb24-00d8ebc210e6"
      },
      "source": [
        "df_customer[[\"customer_id\",\"birth_day\",\"age\"]].head()"
      ],
      "execution_count": 52,
      "outputs": [
        {
          "output_type": "execute_result",
          "data": {
            "text/html": [
              "<div>\n",
              "<style scoped>\n",
              "    .dataframe tbody tr th:only-of-type {\n",
              "        vertical-align: middle;\n",
              "    }\n",
              "\n",
              "    .dataframe tbody tr th {\n",
              "        vertical-align: top;\n",
              "    }\n",
              "\n",
              "    .dataframe thead th {\n",
              "        text-align: right;\n",
              "    }\n",
              "</style>\n",
              "<table border=\"1\" class=\"dataframe\">\n",
              "  <thead>\n",
              "    <tr style=\"text-align: right;\">\n",
              "      <th></th>\n",
              "      <th>customer_id</th>\n",
              "      <th>birth_day</th>\n",
              "      <th>age</th>\n",
              "    </tr>\n",
              "  </thead>\n",
              "  <tbody>\n",
              "    <tr>\n",
              "      <th>0</th>\n",
              "      <td>CS021313000114</td>\n",
              "      <td>1981-04-29</td>\n",
              "      <td>37</td>\n",
              "    </tr>\n",
              "    <tr>\n",
              "      <th>1</th>\n",
              "      <td>CS037613000071</td>\n",
              "      <td>1952-04-01</td>\n",
              "      <td>66</td>\n",
              "    </tr>\n",
              "    <tr>\n",
              "      <th>2</th>\n",
              "      <td>CS031415000172</td>\n",
              "      <td>1976-10-04</td>\n",
              "      <td>42</td>\n",
              "    </tr>\n",
              "    <tr>\n",
              "      <th>3</th>\n",
              "      <td>CS028811000001</td>\n",
              "      <td>1933-03-27</td>\n",
              "      <td>86</td>\n",
              "    </tr>\n",
              "    <tr>\n",
              "      <th>4</th>\n",
              "      <td>CS001215000145</td>\n",
              "      <td>1995-03-29</td>\n",
              "      <td>24</td>\n",
              "    </tr>\n",
              "  </tbody>\n",
              "</table>\n",
              "</div>"
            ],
            "text/plain": [
              "      customer_id   birth_day  age\n",
              "0  CS021313000114  1981-04-29   37\n",
              "1  CS037613000071  1952-04-01   66\n",
              "2  CS031415000172  1976-10-04   42\n",
              "3  CS028811000001  1933-03-27   86\n",
              "4  CS001215000145  1995-03-29   24"
            ]
          },
          "metadata": {
            "tags": []
          },
          "execution_count": 52
        }
      ]
    },
    {
      "cell_type": "markdown",
      "metadata": {
        "id": "-D2seo-zW4RS",
        "colab_type": "text"
      },
      "source": [
        "### columnsを表示"
      ]
    },
    {
      "cell_type": "code",
      "metadata": {
        "id": "xej1742uW8jU",
        "colab_type": "code",
        "colab": {
          "base_uri": "https://localhost:8080/",
          "height": 89
        },
        "outputId": "ed993538-e7ee-4a5d-acef-da80622bfefe"
      },
      "source": [
        "df_customer.columns"
      ],
      "execution_count": 53,
      "outputs": [
        {
          "output_type": "execute_result",
          "data": {
            "text/plain": [
              "Index(['customer_id', 'customer_name', 'gender_cd', 'gender', 'birth_day',\n",
              "       'age', 'postal_cd', 'address', 'application_store_cd',\n",
              "       'application_date', 'status_cd'],\n",
              "      dtype='object')"
            ]
          },
          "metadata": {
            "tags": []
          },
          "execution_count": 53
        }
      ]
    },
    {
      "cell_type": "markdown",
      "metadata": {
        "id": "1ptQDdy5Mncw",
        "colab_type": "text"
      },
      "source": [
        "### iloc[int],(loc[str])で特定の行を指定"
      ]
    },
    {
      "cell_type": "code",
      "metadata": {
        "id": "rjFe4QLqMNyF",
        "colab_type": "code",
        "colab": {
          "base_uri": "https://localhost:8080/",
          "height": 233
        },
        "outputId": "e79090a7-2880-443f-e63a-1e0e408e2739"
      },
      "source": [
        "df_customer.iloc[5]"
      ],
      "execution_count": 54,
      "outputs": [
        {
          "output_type": "execute_result",
          "data": {
            "text/plain": [
              "customer_id                 CS020401000016\n",
              "customer_name                        宮下 達士\n",
              "gender_cd                                0\n",
              "gender                                  男性\n",
              "birth_day                       1974-09-15\n",
              "age                                     44\n",
              "postal_cd                         174-0065\n",
              "address                 東京都板橋区若木**********\n",
              "application_store_cd                S13020\n",
              "application_date                  20150225\n",
              "status_cd                     0-00000000-0\n",
              "Name: 5, dtype: object"
            ]
          },
          "metadata": {
            "tags": []
          },
          "execution_count": 54
        }
      ]
    },
    {
      "cell_type": "markdown",
      "metadata": {
        "id": "EhM17nnLlJ3H",
        "colab_type": "text"
      },
      "source": [
        "### 特定の行・列を落とす\n",
        "\n",
        "df.drop('カラム名', axis=1)\n",
        "\n",
        "axis=0の時、行方向\n",
        "\n",
        "axis=1の時、列方向"
      ]
    },
    {
      "cell_type": "code",
      "metadata": {
        "id": "86PBVUNdlPHm",
        "colab_type": "code",
        "colab": {
          "base_uri": "https://localhost:8080/",
          "height": 179
        },
        "outputId": "94c6e781-8007-4c9d-bc68-add005e987dd"
      },
      "source": [
        "df_customer.drop(\"age\", axis=1).head(2)\n"
      ],
      "execution_count": 55,
      "outputs": [
        {
          "output_type": "execute_result",
          "data": {
            "text/html": [
              "<div>\n",
              "<style scoped>\n",
              "    .dataframe tbody tr th:only-of-type {\n",
              "        vertical-align: middle;\n",
              "    }\n",
              "\n",
              "    .dataframe tbody tr th {\n",
              "        vertical-align: top;\n",
              "    }\n",
              "\n",
              "    .dataframe thead th {\n",
              "        text-align: right;\n",
              "    }\n",
              "</style>\n",
              "<table border=\"1\" class=\"dataframe\">\n",
              "  <thead>\n",
              "    <tr style=\"text-align: right;\">\n",
              "      <th></th>\n",
              "      <th>customer_id</th>\n",
              "      <th>customer_name</th>\n",
              "      <th>gender_cd</th>\n",
              "      <th>gender</th>\n",
              "      <th>birth_day</th>\n",
              "      <th>postal_cd</th>\n",
              "      <th>address</th>\n",
              "      <th>application_store_cd</th>\n",
              "      <th>application_date</th>\n",
              "      <th>status_cd</th>\n",
              "    </tr>\n",
              "  </thead>\n",
              "  <tbody>\n",
              "    <tr>\n",
              "      <th>0</th>\n",
              "      <td>CS021313000114</td>\n",
              "      <td>大野 あや子</td>\n",
              "      <td>1</td>\n",
              "      <td>女性</td>\n",
              "      <td>1981-04-29</td>\n",
              "      <td>259-1113</td>\n",
              "      <td>神奈川県伊勢原市粟窪**********</td>\n",
              "      <td>S14021</td>\n",
              "      <td>20150905</td>\n",
              "      <td>0-00000000-0</td>\n",
              "    </tr>\n",
              "    <tr>\n",
              "      <th>1</th>\n",
              "      <td>CS037613000071</td>\n",
              "      <td>六角 雅彦</td>\n",
              "      <td>9</td>\n",
              "      <td>不明</td>\n",
              "      <td>1952-04-01</td>\n",
              "      <td>136-0076</td>\n",
              "      <td>東京都江東区南砂**********</td>\n",
              "      <td>S13037</td>\n",
              "      <td>20150414</td>\n",
              "      <td>0-00000000-0</td>\n",
              "    </tr>\n",
              "  </tbody>\n",
              "</table>\n",
              "</div>"
            ],
            "text/plain": [
              "      customer_id customer_name  ...  application_date     status_cd\n",
              "0  CS021313000114        大野 あや子  ...          20150905  0-00000000-0\n",
              "1  CS037613000071         六角 雅彦  ...          20150414  0-00000000-0\n",
              "\n",
              "[2 rows x 10 columns]"
            ]
          },
          "metadata": {
            "tags": []
          },
          "execution_count": 55
        }
      ]
    },
    {
      "cell_type": "markdown",
      "metadata": {
        "id": "oSrFjqXFNZ_q",
        "colab_type": "text"
      },
      "source": [
        "### queryで条件を満たした列だけを取得\n",
        "\n",
        "queryはdf型の後に続けて書きます。条件はクオーテーションで囲い文字列として与えます。条件の中に数列（文字列として扱われる数字）があった場合は、シングルクォーテーションで囲います。\n",
        "\n",
        "また、**describe()**で全統計量を確認できます。"
      ]
    },
    {
      "cell_type": "code",
      "metadata": {
        "id": "vaev6SMnNe1M",
        "colab_type": "code",
        "colab": {
          "base_uri": "https://localhost:8080/",
          "height": 393
        },
        "outputId": "42b94cb7-d5e6-4bf0-daf4-d41922e510ad"
      },
      "source": [
        "df_customer.query(\"age>=70\").head()"
      ],
      "execution_count": 57,
      "outputs": [
        {
          "output_type": "execute_result",
          "data": {
            "text/html": [
              "<div>\n",
              "<style scoped>\n",
              "    .dataframe tbody tr th:only-of-type {\n",
              "        vertical-align: middle;\n",
              "    }\n",
              "\n",
              "    .dataframe tbody tr th {\n",
              "        vertical-align: top;\n",
              "    }\n",
              "\n",
              "    .dataframe thead th {\n",
              "        text-align: right;\n",
              "    }\n",
              "</style>\n",
              "<table border=\"1\" class=\"dataframe\">\n",
              "  <thead>\n",
              "    <tr style=\"text-align: right;\">\n",
              "      <th></th>\n",
              "      <th>customer_id</th>\n",
              "      <th>customer_name</th>\n",
              "      <th>gender_cd</th>\n",
              "      <th>gender</th>\n",
              "      <th>birth_day</th>\n",
              "      <th>age</th>\n",
              "      <th>postal_cd</th>\n",
              "      <th>address</th>\n",
              "      <th>application_store_cd</th>\n",
              "      <th>application_date</th>\n",
              "      <th>status_cd</th>\n",
              "    </tr>\n",
              "  </thead>\n",
              "  <tbody>\n",
              "    <tr>\n",
              "      <th>3</th>\n",
              "      <td>CS028811000001</td>\n",
              "      <td>堀井 かおり</td>\n",
              "      <td>1</td>\n",
              "      <td>女性</td>\n",
              "      <td>1933-03-27</td>\n",
              "      <td>86</td>\n",
              "      <td>245-0016</td>\n",
              "      <td>神奈川県横浜市泉区和泉町**********</td>\n",
              "      <td>S14028</td>\n",
              "      <td>20160115</td>\n",
              "      <td>0-00000000-0</td>\n",
              "    </tr>\n",
              "    <tr>\n",
              "      <th>8</th>\n",
              "      <td>CS015804000004</td>\n",
              "      <td>松谷 米蔵</td>\n",
              "      <td>0</td>\n",
              "      <td>男性</td>\n",
              "      <td>1931-05-02</td>\n",
              "      <td>87</td>\n",
              "      <td>136-0073</td>\n",
              "      <td>東京都江東区北砂**********</td>\n",
              "      <td>S13015</td>\n",
              "      <td>20150607</td>\n",
              "      <td>0-00000000-0</td>\n",
              "    </tr>\n",
              "    <tr>\n",
              "      <th>17</th>\n",
              "      <td>CS040702000012</td>\n",
              "      <td>根本 六郎</td>\n",
              "      <td>0</td>\n",
              "      <td>男性</td>\n",
              "      <td>1939-07-02</td>\n",
              "      <td>79</td>\n",
              "      <td>226-0018</td>\n",
              "      <td>神奈川県横浜市緑区長津田みなみ台**********</td>\n",
              "      <td>S14040</td>\n",
              "      <td>20150112</td>\n",
              "      <td>0-00000000-0</td>\n",
              "    </tr>\n",
              "    <tr>\n",
              "      <th>35</th>\n",
              "      <td>CS003802000009</td>\n",
              "      <td>大森 照生</td>\n",
              "      <td>0</td>\n",
              "      <td>男性</td>\n",
              "      <td>1930-01-23</td>\n",
              "      <td>89</td>\n",
              "      <td>214-0014</td>\n",
              "      <td>神奈川県川崎市多摩区登戸**********</td>\n",
              "      <td>S13003</td>\n",
              "      <td>20150216</td>\n",
              "      <td>0-00000000-0</td>\n",
              "    </tr>\n",
              "    <tr>\n",
              "      <th>37</th>\n",
              "      <td>CS002715000148</td>\n",
              "      <td>前田 菜々美</td>\n",
              "      <td>1</td>\n",
              "      <td>女性</td>\n",
              "      <td>1941-12-31</td>\n",
              "      <td>77</td>\n",
              "      <td>184-0015</td>\n",
              "      <td>東京都小金井市貫井北町**********</td>\n",
              "      <td>S13002</td>\n",
              "      <td>20160514</td>\n",
              "      <td>0-00000000-0</td>\n",
              "    </tr>\n",
              "  </tbody>\n",
              "</table>\n",
              "</div>"
            ],
            "text/plain": [
              "       customer_id customer_name  ...  application_date     status_cd\n",
              "3   CS028811000001        堀井 かおり  ...          20160115  0-00000000-0\n",
              "8   CS015804000004         松谷 米蔵  ...          20150607  0-00000000-0\n",
              "17  CS040702000012         根本 六郎  ...          20150112  0-00000000-0\n",
              "35  CS003802000009         大森 照生  ...          20150216  0-00000000-0\n",
              "37  CS002715000148        前田 菜々美  ...          20160514  0-00000000-0\n",
              "\n",
              "[5 rows x 11 columns]"
            ]
          },
          "metadata": {
            "tags": []
          },
          "execution_count": 57
        }
      ]
    },
    {
      "cell_type": "markdown",
      "metadata": {
        "id": "9reD7StLOUW9",
        "colab_type": "text"
      },
      "source": [
        "## あいまい検索"
      ]
    },
    {
      "cell_type": "markdown",
      "metadata": {
        "id": "RA0fbd7FQMyd",
        "colab_type": "text"
      },
      "source": [
        "### startswith, endswith, contains\n",
        "\n",
        "列名などを指定する際、部分一致しているものを取得したい場合があります。\n",
        "その際に必要なのが\n",
        "- \"列名.str.startswith()\"\n",
        "- \"列名.str.endswith()\"\n",
        "- \"列名.str.contains()\"\n",
        "\n",
        "それぞれすべて上記のqueryの条件として与える。その際に、条件の文字列の後にカンマを加えて、engine=\"python\"　と付け加える必要がある。"
      ]
    },
    {
      "cell_type": "code",
      "metadata": {
        "id": "TR71XUvsPeKA",
        "colab_type": "code",
        "colab": {
          "base_uri": "https://localhost:8080/",
          "height": 375
        },
        "outputId": "ed94d1c1-d89c-4541-c69b-31b7ce3c13fb"
      },
      "source": [
        "df_customer.query(\"customer_id.str.startswith('CS')\", engine=\"python\").head()"
      ],
      "execution_count": 59,
      "outputs": [
        {
          "output_type": "execute_result",
          "data": {
            "text/html": [
              "<div>\n",
              "<style scoped>\n",
              "    .dataframe tbody tr th:only-of-type {\n",
              "        vertical-align: middle;\n",
              "    }\n",
              "\n",
              "    .dataframe tbody tr th {\n",
              "        vertical-align: top;\n",
              "    }\n",
              "\n",
              "    .dataframe thead th {\n",
              "        text-align: right;\n",
              "    }\n",
              "</style>\n",
              "<table border=\"1\" class=\"dataframe\">\n",
              "  <thead>\n",
              "    <tr style=\"text-align: right;\">\n",
              "      <th></th>\n",
              "      <th>customer_id</th>\n",
              "      <th>customer_name</th>\n",
              "      <th>gender_cd</th>\n",
              "      <th>gender</th>\n",
              "      <th>birth_day</th>\n",
              "      <th>age</th>\n",
              "      <th>postal_cd</th>\n",
              "      <th>address</th>\n",
              "      <th>application_store_cd</th>\n",
              "      <th>application_date</th>\n",
              "      <th>status_cd</th>\n",
              "    </tr>\n",
              "  </thead>\n",
              "  <tbody>\n",
              "    <tr>\n",
              "      <th>0</th>\n",
              "      <td>CS021313000114</td>\n",
              "      <td>大野 あや子</td>\n",
              "      <td>1</td>\n",
              "      <td>女性</td>\n",
              "      <td>1981-04-29</td>\n",
              "      <td>37</td>\n",
              "      <td>259-1113</td>\n",
              "      <td>神奈川県伊勢原市粟窪**********</td>\n",
              "      <td>S14021</td>\n",
              "      <td>20150905</td>\n",
              "      <td>0-00000000-0</td>\n",
              "    </tr>\n",
              "    <tr>\n",
              "      <th>1</th>\n",
              "      <td>CS037613000071</td>\n",
              "      <td>六角 雅彦</td>\n",
              "      <td>9</td>\n",
              "      <td>不明</td>\n",
              "      <td>1952-04-01</td>\n",
              "      <td>66</td>\n",
              "      <td>136-0076</td>\n",
              "      <td>東京都江東区南砂**********</td>\n",
              "      <td>S13037</td>\n",
              "      <td>20150414</td>\n",
              "      <td>0-00000000-0</td>\n",
              "    </tr>\n",
              "    <tr>\n",
              "      <th>2</th>\n",
              "      <td>CS031415000172</td>\n",
              "      <td>宇多田 貴美子</td>\n",
              "      <td>1</td>\n",
              "      <td>女性</td>\n",
              "      <td>1976-10-04</td>\n",
              "      <td>42</td>\n",
              "      <td>151-0053</td>\n",
              "      <td>東京都渋谷区代々木**********</td>\n",
              "      <td>S13031</td>\n",
              "      <td>20150529</td>\n",
              "      <td>D-20100325-C</td>\n",
              "    </tr>\n",
              "    <tr>\n",
              "      <th>3</th>\n",
              "      <td>CS028811000001</td>\n",
              "      <td>堀井 かおり</td>\n",
              "      <td>1</td>\n",
              "      <td>女性</td>\n",
              "      <td>1933-03-27</td>\n",
              "      <td>86</td>\n",
              "      <td>245-0016</td>\n",
              "      <td>神奈川県横浜市泉区和泉町**********</td>\n",
              "      <td>S14028</td>\n",
              "      <td>20160115</td>\n",
              "      <td>0-00000000-0</td>\n",
              "    </tr>\n",
              "    <tr>\n",
              "      <th>4</th>\n",
              "      <td>CS001215000145</td>\n",
              "      <td>田崎 美紀</td>\n",
              "      <td>1</td>\n",
              "      <td>女性</td>\n",
              "      <td>1995-03-29</td>\n",
              "      <td>24</td>\n",
              "      <td>144-0055</td>\n",
              "      <td>東京都大田区仲六郷**********</td>\n",
              "      <td>S13001</td>\n",
              "      <td>20170605</td>\n",
              "      <td>6-20090929-2</td>\n",
              "    </tr>\n",
              "  </tbody>\n",
              "</table>\n",
              "</div>"
            ],
            "text/plain": [
              "      customer_id customer_name  ...  application_date     status_cd\n",
              "0  CS021313000114        大野 あや子  ...          20150905  0-00000000-0\n",
              "1  CS037613000071         六角 雅彦  ...          20150414  0-00000000-0\n",
              "2  CS031415000172       宇多田 貴美子  ...          20150529  D-20100325-C\n",
              "3  CS028811000001        堀井 かおり  ...          20160115  0-00000000-0\n",
              "4  CS001215000145         田崎 美紀  ...          20170605  6-20090929-2\n",
              "\n",
              "[5 rows x 11 columns]"
            ]
          },
          "metadata": {
            "tags": []
          },
          "execution_count": 59
        }
      ]
    },
    {
      "cell_type": "code",
      "metadata": {
        "id": "BjtdwcPwP5Ft",
        "colab_type": "code",
        "colab": {
          "base_uri": "https://localhost:8080/",
          "height": 395
        },
        "outputId": "e28a9c1f-28d8-4001-8a84-1d0fd27a941d"
      },
      "source": [
        "df_customer.query(\"customer_id.str.endswith('15')\", engine=\"python\").head()"
      ],
      "execution_count": 61,
      "outputs": [
        {
          "output_type": "execute_result",
          "data": {
            "text/html": [
              "<div>\n",
              "<style scoped>\n",
              "    .dataframe tbody tr th:only-of-type {\n",
              "        vertical-align: middle;\n",
              "    }\n",
              "\n",
              "    .dataframe tbody tr th {\n",
              "        vertical-align: top;\n",
              "    }\n",
              "\n",
              "    .dataframe thead th {\n",
              "        text-align: right;\n",
              "    }\n",
              "</style>\n",
              "<table border=\"1\" class=\"dataframe\">\n",
              "  <thead>\n",
              "    <tr style=\"text-align: right;\">\n",
              "      <th></th>\n",
              "      <th>customer_id</th>\n",
              "      <th>customer_name</th>\n",
              "      <th>gender_cd</th>\n",
              "      <th>gender</th>\n",
              "      <th>birth_day</th>\n",
              "      <th>age</th>\n",
              "      <th>postal_cd</th>\n",
              "      <th>address</th>\n",
              "      <th>application_store_cd</th>\n",
              "      <th>application_date</th>\n",
              "      <th>status_cd</th>\n",
              "    </tr>\n",
              "  </thead>\n",
              "  <tbody>\n",
              "    <tr>\n",
              "      <th>60</th>\n",
              "      <td>CS007412000215</td>\n",
              "      <td>三好 愛</td>\n",
              "      <td>1</td>\n",
              "      <td>女性</td>\n",
              "      <td>1969-02-08</td>\n",
              "      <td>50</td>\n",
              "      <td>276-0022</td>\n",
              "      <td>千葉県八千代市上高野**********</td>\n",
              "      <td>S12007</td>\n",
              "      <td>20150510</td>\n",
              "      <td>0-00000000-0</td>\n",
              "    </tr>\n",
              "    <tr>\n",
              "      <th>99</th>\n",
              "      <td>CS019504000015</td>\n",
              "      <td>早美 俊介</td>\n",
              "      <td>0</td>\n",
              "      <td>男性</td>\n",
              "      <td>1964-12-08</td>\n",
              "      <td>54</td>\n",
              "      <td>176-0003</td>\n",
              "      <td>東京都練馬区羽沢**********</td>\n",
              "      <td>S13019</td>\n",
              "      <td>20150825</td>\n",
              "      <td>0-00000000-0</td>\n",
              "    </tr>\n",
              "    <tr>\n",
              "      <th>538</th>\n",
              "      <td>CS011502000015</td>\n",
              "      <td>三村 鉄洋</td>\n",
              "      <td>0</td>\n",
              "      <td>男性</td>\n",
              "      <td>1964-06-10</td>\n",
              "      <td>54</td>\n",
              "      <td>212-0057</td>\n",
              "      <td>神奈川県川崎市幸区北加瀬**********</td>\n",
              "      <td>S14011</td>\n",
              "      <td>20150514</td>\n",
              "      <td>0-00000000-0</td>\n",
              "    </tr>\n",
              "    <tr>\n",
              "      <th>604</th>\n",
              "      <td>CS002515000415</td>\n",
              "      <td>織田 景子</td>\n",
              "      <td>1</td>\n",
              "      <td>女性</td>\n",
              "      <td>1959-06-20</td>\n",
              "      <td>59</td>\n",
              "      <td>185-0024</td>\n",
              "      <td>東京都国分寺市泉町**********</td>\n",
              "      <td>S13002</td>\n",
              "      <td>20160519</td>\n",
              "      <td>6-20100529-8</td>\n",
              "    </tr>\n",
              "    <tr>\n",
              "      <th>619</th>\n",
              "      <td>CS043415000015</td>\n",
              "      <td>神戸 幸子</td>\n",
              "      <td>1</td>\n",
              "      <td>女性</td>\n",
              "      <td>1969-05-20</td>\n",
              "      <td>49</td>\n",
              "      <td>140-0014</td>\n",
              "      <td>東京都品川区大井**********</td>\n",
              "      <td>S13043</td>\n",
              "      <td>20170327</td>\n",
              "      <td>B-20101016-D</td>\n",
              "    </tr>\n",
              "  </tbody>\n",
              "</table>\n",
              "</div>"
            ],
            "text/plain": [
              "        customer_id customer_name  ...  application_date     status_cd\n",
              "60   CS007412000215          三好 愛  ...          20150510  0-00000000-0\n",
              "99   CS019504000015         早美 俊介  ...          20150825  0-00000000-0\n",
              "538  CS011502000015         三村 鉄洋  ...          20150514  0-00000000-0\n",
              "604  CS002515000415         織田 景子  ...          20160519  6-20100529-8\n",
              "619  CS043415000015         神戸 幸子  ...          20170327  B-20101016-D\n",
              "\n",
              "[5 rows x 11 columns]"
            ]
          },
          "metadata": {
            "tags": []
          },
          "execution_count": 61
        }
      ]
    },
    {
      "cell_type": "code",
      "metadata": {
        "id": "qJ_EMk_GP67u",
        "colab_type": "code",
        "colab": {
          "base_uri": "https://localhost:8080/",
          "height": 393
        },
        "outputId": "3c7b018e-8623-4ac9-c4a6-40a0a6c1806a"
      },
      "source": [
        "df_customer.query(\"customer_name.str.contains('野')\", engine=\"python\").head()"
      ],
      "execution_count": 63,
      "outputs": [
        {
          "output_type": "execute_result",
          "data": {
            "text/html": [
              "<div>\n",
              "<style scoped>\n",
              "    .dataframe tbody tr th:only-of-type {\n",
              "        vertical-align: middle;\n",
              "    }\n",
              "\n",
              "    .dataframe tbody tr th {\n",
              "        vertical-align: top;\n",
              "    }\n",
              "\n",
              "    .dataframe thead th {\n",
              "        text-align: right;\n",
              "    }\n",
              "</style>\n",
              "<table border=\"1\" class=\"dataframe\">\n",
              "  <thead>\n",
              "    <tr style=\"text-align: right;\">\n",
              "      <th></th>\n",
              "      <th>customer_id</th>\n",
              "      <th>customer_name</th>\n",
              "      <th>gender_cd</th>\n",
              "      <th>gender</th>\n",
              "      <th>birth_day</th>\n",
              "      <th>age</th>\n",
              "      <th>postal_cd</th>\n",
              "      <th>address</th>\n",
              "      <th>application_store_cd</th>\n",
              "      <th>application_date</th>\n",
              "      <th>status_cd</th>\n",
              "    </tr>\n",
              "  </thead>\n",
              "  <tbody>\n",
              "    <tr>\n",
              "      <th>0</th>\n",
              "      <td>CS021313000114</td>\n",
              "      <td>大野 あや子</td>\n",
              "      <td>1</td>\n",
              "      <td>女性</td>\n",
              "      <td>1981-04-29</td>\n",
              "      <td>37</td>\n",
              "      <td>259-1113</td>\n",
              "      <td>神奈川県伊勢原市粟窪**********</td>\n",
              "      <td>S14021</td>\n",
              "      <td>20150905</td>\n",
              "      <td>0-00000000-0</td>\n",
              "    </tr>\n",
              "    <tr>\n",
              "      <th>6</th>\n",
              "      <td>CS015414000103</td>\n",
              "      <td>奥野 陽子</td>\n",
              "      <td>1</td>\n",
              "      <td>女性</td>\n",
              "      <td>1977-08-09</td>\n",
              "      <td>41</td>\n",
              "      <td>136-0073</td>\n",
              "      <td>東京都江東区北砂**********</td>\n",
              "      <td>S13015</td>\n",
              "      <td>20150722</td>\n",
              "      <td>B-20100609-B</td>\n",
              "    </tr>\n",
              "    <tr>\n",
              "      <th>18</th>\n",
              "      <td>CS046615000013</td>\n",
              "      <td>河野 花</td>\n",
              "      <td>1</td>\n",
              "      <td>女性</td>\n",
              "      <td>1953-04-06</td>\n",
              "      <td>65</td>\n",
              "      <td>224-0026</td>\n",
              "      <td>神奈川県横浜市都筑区南山田町**********</td>\n",
              "      <td>S14046</td>\n",
              "      <td>20181207</td>\n",
              "      <td>0-00000000-0</td>\n",
              "    </tr>\n",
              "    <tr>\n",
              "      <th>29</th>\n",
              "      <td>CS028413000087</td>\n",
              "      <td>浅野 薫</td>\n",
              "      <td>1</td>\n",
              "      <td>女性</td>\n",
              "      <td>1974-12-27</td>\n",
              "      <td>44</td>\n",
              "      <td>246-0013</td>\n",
              "      <td>神奈川県横浜市瀬谷区相沢**********</td>\n",
              "      <td>S14028</td>\n",
              "      <td>20150528</td>\n",
              "      <td>0-00000000-0</td>\n",
              "    </tr>\n",
              "    <tr>\n",
              "      <th>32</th>\n",
              "      <td>CS031415000106</td>\n",
              "      <td>宇野 由美子</td>\n",
              "      <td>1</td>\n",
              "      <td>女性</td>\n",
              "      <td>1970-02-26</td>\n",
              "      <td>49</td>\n",
              "      <td>151-0053</td>\n",
              "      <td>東京都渋谷区代々木**********</td>\n",
              "      <td>S13031</td>\n",
              "      <td>20150201</td>\n",
              "      <td>F-20100511-E</td>\n",
              "    </tr>\n",
              "  </tbody>\n",
              "</table>\n",
              "</div>"
            ],
            "text/plain": [
              "       customer_id customer_name  ...  application_date     status_cd\n",
              "0   CS021313000114        大野 あや子  ...          20150905  0-00000000-0\n",
              "6   CS015414000103         奥野 陽子  ...          20150722  B-20100609-B\n",
              "18  CS046615000013          河野 花  ...          20181207  0-00000000-0\n",
              "29  CS028413000087          浅野 薫  ...          20150528  0-00000000-0\n",
              "32  CS031415000106        宇野 由美子  ...          20150201  F-20100511-E\n",
              "\n",
              "[5 rows x 11 columns]"
            ]
          },
          "metadata": {
            "tags": []
          },
          "execution_count": 63
        }
      ]
    },
    {
      "cell_type": "markdown",
      "metadata": {
        "id": "3wk3cTZQQR3W",
        "colab_type": "text"
      },
      "source": [
        "### 正規表現\n",
        "\n",
        "- ^：先頭から始まる\n",
        "- $：文字列の末尾\n",
        "- .：任意の一文字\n",
        "- *：0回以上の繰り返し\n",
        "\n",
        "正規表現(https://qiita.com/luohao0404/items/7135b2b96f9b0b196bf3)"
      ]
    },
    {
      "cell_type": "code",
      "metadata": {
        "id": "2_6pIR2FSL6c",
        "colab_type": "code",
        "colab": {
          "base_uri": "https://localhost:8080/",
          "height": 393
        },
        "outputId": "2e478690-f2e1-48e0-848f-13df512f89f0"
      },
      "source": [
        "#名前の先頭ががA~Fのいずれかのものを取得\n",
        "df_customer.query(\"status_cd.str.contains('^[A:F]')\", engine=\"python\").head()"
      ],
      "execution_count": 64,
      "outputs": [
        {
          "output_type": "execute_result",
          "data": {
            "text/html": [
              "<div>\n",
              "<style scoped>\n",
              "    .dataframe tbody tr th:only-of-type {\n",
              "        vertical-align: middle;\n",
              "    }\n",
              "\n",
              "    .dataframe tbody tr th {\n",
              "        vertical-align: top;\n",
              "    }\n",
              "\n",
              "    .dataframe thead th {\n",
              "        text-align: right;\n",
              "    }\n",
              "</style>\n",
              "<table border=\"1\" class=\"dataframe\">\n",
              "  <thead>\n",
              "    <tr style=\"text-align: right;\">\n",
              "      <th></th>\n",
              "      <th>customer_id</th>\n",
              "      <th>customer_name</th>\n",
              "      <th>gender_cd</th>\n",
              "      <th>gender</th>\n",
              "      <th>birth_day</th>\n",
              "      <th>age</th>\n",
              "      <th>postal_cd</th>\n",
              "      <th>address</th>\n",
              "      <th>application_store_cd</th>\n",
              "      <th>application_date</th>\n",
              "      <th>status_cd</th>\n",
              "    </tr>\n",
              "  </thead>\n",
              "  <tbody>\n",
              "    <tr>\n",
              "      <th>21</th>\n",
              "      <td>CS035415000029</td>\n",
              "      <td>寺沢 真希</td>\n",
              "      <td>9</td>\n",
              "      <td>不明</td>\n",
              "      <td>1977-09-27</td>\n",
              "      <td>41</td>\n",
              "      <td>158-0096</td>\n",
              "      <td>東京都世田谷区玉川台**********</td>\n",
              "      <td>S13035</td>\n",
              "      <td>20141220</td>\n",
              "      <td>F-20101029-F</td>\n",
              "    </tr>\n",
              "    <tr>\n",
              "      <th>32</th>\n",
              "      <td>CS031415000106</td>\n",
              "      <td>宇野 由美子</td>\n",
              "      <td>1</td>\n",
              "      <td>女性</td>\n",
              "      <td>1970-02-26</td>\n",
              "      <td>49</td>\n",
              "      <td>151-0053</td>\n",
              "      <td>東京都渋谷区代々木**********</td>\n",
              "      <td>S13031</td>\n",
              "      <td>20150201</td>\n",
              "      <td>F-20100511-E</td>\n",
              "    </tr>\n",
              "    <tr>\n",
              "      <th>40</th>\n",
              "      <td>CS033605000005</td>\n",
              "      <td>猪股 雄太</td>\n",
              "      <td>0</td>\n",
              "      <td>男性</td>\n",
              "      <td>1955-12-05</td>\n",
              "      <td>63</td>\n",
              "      <td>246-0031</td>\n",
              "      <td>神奈川県横浜市瀬谷区瀬谷**********</td>\n",
              "      <td>S14033</td>\n",
              "      <td>20150425</td>\n",
              "      <td>F-20100917-E</td>\n",
              "    </tr>\n",
              "    <tr>\n",
              "      <th>44</th>\n",
              "      <td>CS033415000229</td>\n",
              "      <td>板垣 菜々美</td>\n",
              "      <td>1</td>\n",
              "      <td>女性</td>\n",
              "      <td>1977-11-07</td>\n",
              "      <td>41</td>\n",
              "      <td>246-0021</td>\n",
              "      <td>神奈川県横浜市瀬谷区二ツ橋町**********</td>\n",
              "      <td>S14033</td>\n",
              "      <td>20150712</td>\n",
              "      <td>F-20100326-E</td>\n",
              "    </tr>\n",
              "    <tr>\n",
              "      <th>53</th>\n",
              "      <td>CS008415000145</td>\n",
              "      <td>黒谷 麻緒</td>\n",
              "      <td>1</td>\n",
              "      <td>女性</td>\n",
              "      <td>1977-06-27</td>\n",
              "      <td>41</td>\n",
              "      <td>157-0067</td>\n",
              "      <td>東京都世田谷区喜多見**********</td>\n",
              "      <td>S13008</td>\n",
              "      <td>20150829</td>\n",
              "      <td>F-20100622-F</td>\n",
              "    </tr>\n",
              "  </tbody>\n",
              "</table>\n",
              "</div>"
            ],
            "text/plain": [
              "       customer_id customer_name  ...  application_date     status_cd\n",
              "21  CS035415000029         寺沢 真希  ...          20141220  F-20101029-F\n",
              "32  CS031415000106        宇野 由美子  ...          20150201  F-20100511-E\n",
              "40  CS033605000005         猪股 雄太  ...          20150425  F-20100917-E\n",
              "44  CS033415000229        板垣 菜々美  ...          20150712  F-20100326-E\n",
              "53  CS008415000145         黒谷 麻緒  ...          20150829  F-20100622-F\n",
              "\n",
              "[5 rows x 11 columns]"
            ]
          },
          "metadata": {
            "tags": []
          },
          "execution_count": 64
        }
      ]
    },
    {
      "cell_type": "code",
      "metadata": {
        "id": "IozUQXIxS3RU",
        "colab_type": "code",
        "colab": {
          "base_uri": "https://localhost:8080/",
          "height": 393
        },
        "outputId": "e9f635f9-27a9-4c73-eec3-a1bfb79a80eb"
      },
      "source": [
        "#チケットの末尾が2~5のいずれかのものを取得\n",
        "df_customer.query(\"status_cd.str.contains('[2-5]$')\", engine=\"python\").head()"
      ],
      "execution_count": 65,
      "outputs": [
        {
          "output_type": "execute_result",
          "data": {
            "text/html": [
              "<div>\n",
              "<style scoped>\n",
              "    .dataframe tbody tr th:only-of-type {\n",
              "        vertical-align: middle;\n",
              "    }\n",
              "\n",
              "    .dataframe tbody tr th {\n",
              "        vertical-align: top;\n",
              "    }\n",
              "\n",
              "    .dataframe thead th {\n",
              "        text-align: right;\n",
              "    }\n",
              "</style>\n",
              "<table border=\"1\" class=\"dataframe\">\n",
              "  <thead>\n",
              "    <tr style=\"text-align: right;\">\n",
              "      <th></th>\n",
              "      <th>customer_id</th>\n",
              "      <th>customer_name</th>\n",
              "      <th>gender_cd</th>\n",
              "      <th>gender</th>\n",
              "      <th>birth_day</th>\n",
              "      <th>age</th>\n",
              "      <th>postal_cd</th>\n",
              "      <th>address</th>\n",
              "      <th>application_store_cd</th>\n",
              "      <th>application_date</th>\n",
              "      <th>status_cd</th>\n",
              "    </tr>\n",
              "  </thead>\n",
              "  <tbody>\n",
              "    <tr>\n",
              "      <th>4</th>\n",
              "      <td>CS001215000145</td>\n",
              "      <td>田崎 美紀</td>\n",
              "      <td>1</td>\n",
              "      <td>女性</td>\n",
              "      <td>1995-03-29</td>\n",
              "      <td>24</td>\n",
              "      <td>144-0055</td>\n",
              "      <td>東京都大田区仲六郷**********</td>\n",
              "      <td>S13001</td>\n",
              "      <td>20170605</td>\n",
              "      <td>6-20090929-2</td>\n",
              "    </tr>\n",
              "    <tr>\n",
              "      <th>9</th>\n",
              "      <td>CS033513000180</td>\n",
              "      <td>安斎 遥</td>\n",
              "      <td>1</td>\n",
              "      <td>女性</td>\n",
              "      <td>1962-07-11</td>\n",
              "      <td>56</td>\n",
              "      <td>241-0823</td>\n",
              "      <td>神奈川県横浜市旭区善部町**********</td>\n",
              "      <td>S14033</td>\n",
              "      <td>20150728</td>\n",
              "      <td>6-20080506-5</td>\n",
              "    </tr>\n",
              "    <tr>\n",
              "      <th>14</th>\n",
              "      <td>CS040412000191</td>\n",
              "      <td>川井 郁恵</td>\n",
              "      <td>1</td>\n",
              "      <td>女性</td>\n",
              "      <td>1977-01-05</td>\n",
              "      <td>42</td>\n",
              "      <td>226-0021</td>\n",
              "      <td>神奈川県横浜市緑区北八朔町**********</td>\n",
              "      <td>S14040</td>\n",
              "      <td>20151101</td>\n",
              "      <td>1-20091025-4</td>\n",
              "    </tr>\n",
              "    <tr>\n",
              "      <th>22</th>\n",
              "      <td>CS015315000033</td>\n",
              "      <td>福士 璃奈子</td>\n",
              "      <td>1</td>\n",
              "      <td>女性</td>\n",
              "      <td>1983-03-17</td>\n",
              "      <td>36</td>\n",
              "      <td>135-0043</td>\n",
              "      <td>東京都江東区塩浜**********</td>\n",
              "      <td>S13015</td>\n",
              "      <td>20141024</td>\n",
              "      <td>4-20080219-3</td>\n",
              "    </tr>\n",
              "    <tr>\n",
              "      <th>28</th>\n",
              "      <td>CS040314000027</td>\n",
              "      <td>鶴田 きみまろ</td>\n",
              "      <td>9</td>\n",
              "      <td>不明</td>\n",
              "      <td>1986-03-26</td>\n",
              "      <td>33</td>\n",
              "      <td>226-0027</td>\n",
              "      <td>神奈川県横浜市緑区長津田**********</td>\n",
              "      <td>S14040</td>\n",
              "      <td>20150122</td>\n",
              "      <td>2-20080426-4</td>\n",
              "    </tr>\n",
              "  </tbody>\n",
              "</table>\n",
              "</div>"
            ],
            "text/plain": [
              "       customer_id customer_name  ...  application_date     status_cd\n",
              "4   CS001215000145         田崎 美紀  ...          20170605  6-20090929-2\n",
              "9   CS033513000180          安斎 遥  ...          20150728  6-20080506-5\n",
              "14  CS040412000191         川井 郁恵  ...          20151101  1-20091025-4\n",
              "22  CS015315000033        福士 璃奈子  ...          20141024  4-20080219-3\n",
              "28  CS040314000027       鶴田 きみまろ  ...          20150122  2-20080426-4\n",
              "\n",
              "[5 rows x 11 columns]"
            ]
          },
          "metadata": {
            "tags": []
          },
          "execution_count": 65
        }
      ]
    },
    {
      "cell_type": "code",
      "metadata": {
        "id": "25xklA1GTLmO",
        "colab_type": "code",
        "colab": {
          "base_uri": "https://localhost:8080/",
          "height": 395
        },
        "outputId": "9aa09f28-ec74-4efc-d626-d778746248ba"
      },
      "source": [
        "#チケットが3~5で始まり、7~9で終わるもの\n",
        "df_customer.query(\"status_cd.str.contains('^[A:F].*[7-9]$')\", engine=\"python\").head()"
      ],
      "execution_count": 66,
      "outputs": [
        {
          "output_type": "execute_result",
          "data": {
            "text/html": [
              "<div>\n",
              "<style scoped>\n",
              "    .dataframe tbody tr th:only-of-type {\n",
              "        vertical-align: middle;\n",
              "    }\n",
              "\n",
              "    .dataframe tbody tr th {\n",
              "        vertical-align: top;\n",
              "    }\n",
              "\n",
              "    .dataframe thead th {\n",
              "        text-align: right;\n",
              "    }\n",
              "</style>\n",
              "<table border=\"1\" class=\"dataframe\">\n",
              "  <thead>\n",
              "    <tr style=\"text-align: right;\">\n",
              "      <th></th>\n",
              "      <th>customer_id</th>\n",
              "      <th>customer_name</th>\n",
              "      <th>gender_cd</th>\n",
              "      <th>gender</th>\n",
              "      <th>birth_day</th>\n",
              "      <th>age</th>\n",
              "      <th>postal_cd</th>\n",
              "      <th>address</th>\n",
              "      <th>application_store_cd</th>\n",
              "      <th>application_date</th>\n",
              "      <th>status_cd</th>\n",
              "    </tr>\n",
              "  </thead>\n",
              "  <tbody>\n",
              "    <tr>\n",
              "      <th>68</th>\n",
              "      <td>CS022513000105</td>\n",
              "      <td>島村 貴美子</td>\n",
              "      <td>1</td>\n",
              "      <td>女性</td>\n",
              "      <td>1962-03-12</td>\n",
              "      <td>57</td>\n",
              "      <td>249-0002</td>\n",
              "      <td>神奈川県逗子市山の根**********</td>\n",
              "      <td>S14022</td>\n",
              "      <td>20150320</td>\n",
              "      <td>A-20091115-7</td>\n",
              "    </tr>\n",
              "    <tr>\n",
              "      <th>71</th>\n",
              "      <td>CS001515000096</td>\n",
              "      <td>水野 陽子</td>\n",
              "      <td>9</td>\n",
              "      <td>不明</td>\n",
              "      <td>1960-11-29</td>\n",
              "      <td>58</td>\n",
              "      <td>144-0053</td>\n",
              "      <td>東京都大田区蒲田本町**********</td>\n",
              "      <td>S13001</td>\n",
              "      <td>20150614</td>\n",
              "      <td>A-20100724-7</td>\n",
              "    </tr>\n",
              "    <tr>\n",
              "      <th>659</th>\n",
              "      <td>CS008315000012</td>\n",
              "      <td>須藤 沙知絵</td>\n",
              "      <td>9</td>\n",
              "      <td>不明</td>\n",
              "      <td>1987-08-24</td>\n",
              "      <td>31</td>\n",
              "      <td>157-0074</td>\n",
              "      <td>東京都世田谷区大蔵**********</td>\n",
              "      <td>S13008</td>\n",
              "      <td>20151226</td>\n",
              "      <td>A-20090320-8</td>\n",
              "    </tr>\n",
              "    <tr>\n",
              "      <th>1211</th>\n",
              "      <td>CS019411000025</td>\n",
              "      <td>浜口 真奈美</td>\n",
              "      <td>1</td>\n",
              "      <td>女性</td>\n",
              "      <td>1970-08-20</td>\n",
              "      <td>48</td>\n",
              "      <td>173-0031</td>\n",
              "      <td>東京都板橋区大谷口北町**********</td>\n",
              "      <td>S13019</td>\n",
              "      <td>20150407</td>\n",
              "      <td>A-20100411-7</td>\n",
              "    </tr>\n",
              "    <tr>\n",
              "      <th>1318</th>\n",
              "      <td>CS005513000083</td>\n",
              "      <td>豊島 そら</td>\n",
              "      <td>1</td>\n",
              "      <td>女性</td>\n",
              "      <td>1962-11-24</td>\n",
              "      <td>56</td>\n",
              "      <td>165-0032</td>\n",
              "      <td>東京都中野区鷺宮**********</td>\n",
              "      <td>S13005</td>\n",
              "      <td>20150214</td>\n",
              "      <td>A-20100111-9</td>\n",
              "    </tr>\n",
              "  </tbody>\n",
              "</table>\n",
              "</div>"
            ],
            "text/plain": [
              "         customer_id customer_name  ...  application_date     status_cd\n",
              "68    CS022513000105        島村 貴美子  ...          20150320  A-20091115-7\n",
              "71    CS001515000096         水野 陽子  ...          20150614  A-20100724-7\n",
              "659   CS008315000012        須藤 沙知絵  ...          20151226  A-20090320-8\n",
              "1211  CS019411000025        浜口 真奈美  ...          20150407  A-20100411-7\n",
              "1318  CS005513000083         豊島 そら  ...          20150214  A-20100111-9\n",
              "\n",
              "[5 rows x 11 columns]"
            ]
          },
          "metadata": {
            "tags": []
          },
          "execution_count": 66
        }
      ]
    },
    {
      "cell_type": "markdown",
      "metadata": {
        "id": "wHtgzFTSU7vu",
        "colab_type": "text"
      },
      "source": [
        "## ソート\n",
        "\n",
        "sort_value(\"列名\", ascending=True)\n",
        "\n",
        "Trueで昇順、Falseで降順\n",
        "\n"
      ]
    },
    {
      "cell_type": "code",
      "metadata": {
        "id": "bRujGjAdVQhY",
        "colab_type": "code",
        "colab": {
          "base_uri": "https://localhost:8080/",
          "height": 395
        },
        "outputId": "a588b08a-1b11-45bd-a7aa-6409b5a085eb"
      },
      "source": [
        "df_customer.sort_values(\"birth_day\", ascending=True).head()"
      ],
      "execution_count": 67,
      "outputs": [
        {
          "output_type": "execute_result",
          "data": {
            "text/html": [
              "<div>\n",
              "<style scoped>\n",
              "    .dataframe tbody tr th:only-of-type {\n",
              "        vertical-align: middle;\n",
              "    }\n",
              "\n",
              "    .dataframe tbody tr th {\n",
              "        vertical-align: top;\n",
              "    }\n",
              "\n",
              "    .dataframe thead th {\n",
              "        text-align: right;\n",
              "    }\n",
              "</style>\n",
              "<table border=\"1\" class=\"dataframe\">\n",
              "  <thead>\n",
              "    <tr style=\"text-align: right;\">\n",
              "      <th></th>\n",
              "      <th>customer_id</th>\n",
              "      <th>customer_name</th>\n",
              "      <th>gender_cd</th>\n",
              "      <th>gender</th>\n",
              "      <th>birth_day</th>\n",
              "      <th>age</th>\n",
              "      <th>postal_cd</th>\n",
              "      <th>address</th>\n",
              "      <th>application_store_cd</th>\n",
              "      <th>application_date</th>\n",
              "      <th>status_cd</th>\n",
              "    </tr>\n",
              "  </thead>\n",
              "  <tbody>\n",
              "    <tr>\n",
              "      <th>18817</th>\n",
              "      <td>CS003813000014</td>\n",
              "      <td>村山 菜々美</td>\n",
              "      <td>1</td>\n",
              "      <td>女性</td>\n",
              "      <td>1928-11-26</td>\n",
              "      <td>90</td>\n",
              "      <td>182-0007</td>\n",
              "      <td>東京都調布市菊野台**********</td>\n",
              "      <td>S13003</td>\n",
              "      <td>20160214</td>\n",
              "      <td>0-00000000-0</td>\n",
              "    </tr>\n",
              "    <tr>\n",
              "      <th>12328</th>\n",
              "      <td>CS026813000004</td>\n",
              "      <td>吉村 朝陽</td>\n",
              "      <td>1</td>\n",
              "      <td>女性</td>\n",
              "      <td>1928-12-14</td>\n",
              "      <td>90</td>\n",
              "      <td>251-0043</td>\n",
              "      <td>神奈川県藤沢市辻堂元町**********</td>\n",
              "      <td>S14026</td>\n",
              "      <td>20150723</td>\n",
              "      <td>0-00000000-0</td>\n",
              "    </tr>\n",
              "    <tr>\n",
              "      <th>15682</th>\n",
              "      <td>CS018811000003</td>\n",
              "      <td>熊沢 美里</td>\n",
              "      <td>1</td>\n",
              "      <td>女性</td>\n",
              "      <td>1929-01-07</td>\n",
              "      <td>90</td>\n",
              "      <td>204-0004</td>\n",
              "      <td>東京都清瀬市野塩**********</td>\n",
              "      <td>S13018</td>\n",
              "      <td>20150403</td>\n",
              "      <td>0-00000000-0</td>\n",
              "    </tr>\n",
              "    <tr>\n",
              "      <th>15302</th>\n",
              "      <td>CS027803000004</td>\n",
              "      <td>内村 拓郎</td>\n",
              "      <td>0</td>\n",
              "      <td>男性</td>\n",
              "      <td>1929-01-12</td>\n",
              "      <td>90</td>\n",
              "      <td>251-0031</td>\n",
              "      <td>神奈川県藤沢市鵠沼藤が谷**********</td>\n",
              "      <td>S14027</td>\n",
              "      <td>20151227</td>\n",
              "      <td>0-00000000-0</td>\n",
              "    </tr>\n",
              "    <tr>\n",
              "      <th>1681</th>\n",
              "      <td>CS013801000003</td>\n",
              "      <td>天野 拓郎</td>\n",
              "      <td>0</td>\n",
              "      <td>男性</td>\n",
              "      <td>1929-01-15</td>\n",
              "      <td>90</td>\n",
              "      <td>274-0824</td>\n",
              "      <td>千葉県船橋市前原東**********</td>\n",
              "      <td>S12013</td>\n",
              "      <td>20160120</td>\n",
              "      <td>0-00000000-0</td>\n",
              "    </tr>\n",
              "  </tbody>\n",
              "</table>\n",
              "</div>"
            ],
            "text/plain": [
              "          customer_id customer_name  ...  application_date     status_cd\n",
              "18817  CS003813000014        村山 菜々美  ...          20160214  0-00000000-0\n",
              "12328  CS026813000004         吉村 朝陽  ...          20150723  0-00000000-0\n",
              "15682  CS018811000003         熊沢 美里  ...          20150403  0-00000000-0\n",
              "15302  CS027803000004         内村 拓郎  ...          20151227  0-00000000-0\n",
              "1681   CS013801000003         天野 拓郎  ...          20160120  0-00000000-0\n",
              "\n",
              "[5 rows x 11 columns]"
            ]
          },
          "metadata": {
            "tags": []
          },
          "execution_count": 67
        }
      ]
    },
    {
      "cell_type": "markdown",
      "metadata": {
        "id": "hrW6k8_DXayZ",
        "colab_type": "text"
      },
      "source": [
        "## 集計と計算\n",
        "\n"
      ]
    },
    {
      "cell_type": "markdown",
      "metadata": {
        "id": "ZlLJSPGLimIR",
        "colab_type": "text"
      },
      "source": [
        "### groupby\n",
        "指定したカラムごとに集計\n",
        "\n",
        "インデックスが崩れるのでその後にrest_index()が必要"
      ]
    },
    {
      "cell_type": "code",
      "metadata": {
        "id": "8BXJ36evX6br",
        "colab_type": "code",
        "colab": {
          "base_uri": "https://localhost:8080/",
          "height": 143
        },
        "outputId": "709ed7cf-c8ea-4a6d-becb-016a0ff224b5"
      },
      "source": [
        "#groupby\n",
        "df_receipt.groupby(\"store_cd\")[\"amount\"].sum().head()"
      ],
      "execution_count": 69,
      "outputs": [
        {
          "output_type": "execute_result",
          "data": {
            "text/plain": [
              "store_cd\n",
              "S12007    638761\n",
              "S12013    787513\n",
              "S12014    725167\n",
              "S12029    794741\n",
              "S12030    684402\n",
              "Name: amount, dtype: int64"
            ]
          },
          "metadata": {
            "tags": []
          },
          "execution_count": 69
        }
      ]
    },
    {
      "cell_type": "markdown",
      "metadata": {
        "id": "LEnDwEW0i29I",
        "colab_type": "text"
      },
      "source": [
        "### aggを使って複数のカラムをまとめて集計\n",
        "agg({カラム名:計算方法1, カラム名:計算方法2})で指定した集計方法で表を生成"
      ]
    },
    {
      "cell_type": "code",
      "metadata": {
        "id": "siRqpjPUjHCv",
        "colab_type": "code",
        "colab": {
          "base_uri": "https://localhost:8080/",
          "height": 233
        },
        "outputId": "85e67dcf-2ad0-4c7a-859f-f5dc2ddbfebc"
      },
      "source": [
        "df_receipt.groupby(\"store_cd\").agg({\"amount\":\"max\", \"quantity\":\"sum\"}).head()"
      ],
      "execution_count": 73,
      "outputs": [
        {
          "output_type": "execute_result",
          "data": {
            "text/html": [
              "<div>\n",
              "<style scoped>\n",
              "    .dataframe tbody tr th:only-of-type {\n",
              "        vertical-align: middle;\n",
              "    }\n",
              "\n",
              "    .dataframe tbody tr th {\n",
              "        vertical-align: top;\n",
              "    }\n",
              "\n",
              "    .dataframe thead th {\n",
              "        text-align: right;\n",
              "    }\n",
              "</style>\n",
              "<table border=\"1\" class=\"dataframe\">\n",
              "  <thead>\n",
              "    <tr style=\"text-align: right;\">\n",
              "      <th></th>\n",
              "      <th>amount</th>\n",
              "      <th>quantity</th>\n",
              "    </tr>\n",
              "    <tr>\n",
              "      <th>store_cd</th>\n",
              "      <th></th>\n",
              "      <th></th>\n",
              "    </tr>\n",
              "  </thead>\n",
              "  <tbody>\n",
              "    <tr>\n",
              "      <th>S12007</th>\n",
              "      <td>5000</td>\n",
              "      <td>2099</td>\n",
              "    </tr>\n",
              "    <tr>\n",
              "      <th>S12013</th>\n",
              "      <td>5000</td>\n",
              "      <td>2425</td>\n",
              "    </tr>\n",
              "    <tr>\n",
              "      <th>S12014</th>\n",
              "      <td>5000</td>\n",
              "      <td>2358</td>\n",
              "    </tr>\n",
              "    <tr>\n",
              "      <th>S12029</th>\n",
              "      <td>5280</td>\n",
              "      <td>2555</td>\n",
              "    </tr>\n",
              "    <tr>\n",
              "      <th>S12030</th>\n",
              "      <td>5280</td>\n",
              "      <td>2403</td>\n",
              "    </tr>\n",
              "  </tbody>\n",
              "</table>\n",
              "</div>"
            ],
            "text/plain": [
              "          amount  quantity\n",
              "store_cd                  \n",
              "S12007      5000      2099\n",
              "S12013      5000      2425\n",
              "S12014      5000      2358\n",
              "S12029      5280      2555\n",
              "S12030      5280      2403"
            ]
          },
          "metadata": {
            "tags": []
          },
          "execution_count": 73
        }
      ]
    },
    {
      "cell_type": "markdown",
      "metadata": {
        "id": "DRdj0Bbnjhdr",
        "colab_type": "text"
      },
      "source": [
        "### applyで複雑処理を行う\n",
        "\n",
        "mode, var, std やその他関数を使用する場合は、<br> apply(lambda x: f(x))"
      ]
    },
    {
      "cell_type": "code",
      "metadata": {
        "id": "usUbkeubhnWX",
        "colab_type": "code",
        "colab": {
          "base_uri": "https://localhost:8080/",
          "height": 143
        },
        "outputId": "6d3ccfa4-00d5-44f1-f550-914b0bf3ce30"
      },
      "source": [
        "#apply\n",
        "df_receipt.groupby(\"store_cd\")[\"amount\"].apply(lambda x: x.mode()).head()"
      ],
      "execution_count": 74,
      "outputs": [
        {
          "output_type": "execute_result",
          "data": {
            "text/plain": [
              "store_cd   \n",
              "S12007    0    148\n",
              "S12013    0    148\n",
              "S12014    0    100\n",
              "S12029    0    100\n",
              "S12030    0    148\n",
              "Name: amount, dtype: int64"
            ]
          },
          "metadata": {
            "tags": []
          },
          "execution_count": 74
        }
      ]
    },
    {
      "cell_type": "markdown",
      "metadata": {
        "id": "ZnnVsz0mj2oN",
        "colab_type": "text"
      },
      "source": [
        "### パーセンタイル\n",
        "\n",
        "quantile([0, 0.25, 0.5, 0.75, 1])\n",
        "\n",
        "別解としてnp.percentile(df_receipt['amount'], q=[25, 50, 75,100])"
      ]
    },
    {
      "cell_type": "code",
      "metadata": {
        "id": "PPhJ6pxXiK8N",
        "colab_type": "code",
        "colab": {
          "base_uri": "https://localhost:8080/",
          "height": 125
        },
        "outputId": "2fc1d3ad-5317-401e-d11b-2f2d1fe13835"
      },
      "source": [
        "df_receipt[\"amount\"].quantile([0,0.24,0.5,0.75,1])"
      ],
      "execution_count": 75,
      "outputs": [
        {
          "output_type": "execute_result",
          "data": {
            "text/plain": [
              "0.00       10.0\n",
              "0.24      102.0\n",
              "0.50      170.0\n",
              "0.75      288.0\n",
              "1.00    10925.0\n",
              "Name: amount, dtype: float64"
            ]
          },
          "metadata": {
            "tags": []
          },
          "execution_count": 75
        }
      ]
    },
    {
      "cell_type": "markdown",
      "metadata": {
        "id": "sdHrZXCZZOtm",
        "colab_type": "text"
      },
      "source": [
        "## 結合\n",
        "- **concat**は2つの表を単純にくっつける\n",
        "- **merge**は2つの表を共通のキーで合わせてくっつける\n",
        "- left_on：leftのDataFrameのkeyにするカラム\n",
        "- right_on：rightのDataFrameのkeyにするカラム\n",
        "- left_index：leftのKeyをindexにする場合Trueを指定\n",
        "- right_index：rightのKeyをindexにする場合Trueを指定"
      ]
    },
    {
      "cell_type": "markdown",
      "metadata": {
        "id": "PBWjPUBZniV5",
        "colab_type": "text"
      },
      "source": [
        "### concat\n",
        "pd.concat([df_1, df_2], axis=0)\n",
        "\n",
        "axis=0の時、列方向\n",
        "\n",
        "axis=1の時、行方向"
      ]
    },
    {
      "cell_type": "code",
      "metadata": {
        "id": "xwPN7rtnoqym",
        "colab_type": "code",
        "colab": {
          "base_uri": "https://localhost:8080/",
          "height": 395
        },
        "outputId": "7f14c03e-f5fd-4dbd-b01d-02610dbe2ea1"
      },
      "source": [
        "#concatは単純にくっつけるだけなので、customer_idなどが二つある\n",
        "pd.concat([df_customer, df_receipt], axis=1).head()"
      ],
      "execution_count": 77,
      "outputs": [
        {
          "output_type": "execute_result",
          "data": {
            "text/html": [
              "<div>\n",
              "<style scoped>\n",
              "    .dataframe tbody tr th:only-of-type {\n",
              "        vertical-align: middle;\n",
              "    }\n",
              "\n",
              "    .dataframe tbody tr th {\n",
              "        vertical-align: top;\n",
              "    }\n",
              "\n",
              "    .dataframe thead th {\n",
              "        text-align: right;\n",
              "    }\n",
              "</style>\n",
              "<table border=\"1\" class=\"dataframe\">\n",
              "  <thead>\n",
              "    <tr style=\"text-align: right;\">\n",
              "      <th></th>\n",
              "      <th>customer_id</th>\n",
              "      <th>customer_name</th>\n",
              "      <th>gender_cd</th>\n",
              "      <th>gender</th>\n",
              "      <th>birth_day</th>\n",
              "      <th>age</th>\n",
              "      <th>postal_cd</th>\n",
              "      <th>address</th>\n",
              "      <th>application_store_cd</th>\n",
              "      <th>application_date</th>\n",
              "      <th>status_cd</th>\n",
              "      <th>sales_ymd</th>\n",
              "      <th>sales_epoch</th>\n",
              "      <th>store_cd</th>\n",
              "      <th>receipt_no</th>\n",
              "      <th>receipt_sub_no</th>\n",
              "      <th>customer_id</th>\n",
              "      <th>product_cd</th>\n",
              "      <th>quantity</th>\n",
              "      <th>amount</th>\n",
              "    </tr>\n",
              "  </thead>\n",
              "  <tbody>\n",
              "    <tr>\n",
              "      <th>0</th>\n",
              "      <td>CS021313000114</td>\n",
              "      <td>大野 あや子</td>\n",
              "      <td>1.0</td>\n",
              "      <td>女性</td>\n",
              "      <td>1981-04-29</td>\n",
              "      <td>37.0</td>\n",
              "      <td>259-1113</td>\n",
              "      <td>神奈川県伊勢原市粟窪**********</td>\n",
              "      <td>S14021</td>\n",
              "      <td>20150905.0</td>\n",
              "      <td>0-00000000-0</td>\n",
              "      <td>20181103</td>\n",
              "      <td>1541203200</td>\n",
              "      <td>S14006</td>\n",
              "      <td>112</td>\n",
              "      <td>1</td>\n",
              "      <td>CS006214000001</td>\n",
              "      <td>P070305012</td>\n",
              "      <td>1</td>\n",
              "      <td>158</td>\n",
              "    </tr>\n",
              "    <tr>\n",
              "      <th>1</th>\n",
              "      <td>CS037613000071</td>\n",
              "      <td>六角 雅彦</td>\n",
              "      <td>9.0</td>\n",
              "      <td>不明</td>\n",
              "      <td>1952-04-01</td>\n",
              "      <td>66.0</td>\n",
              "      <td>136-0076</td>\n",
              "      <td>東京都江東区南砂**********</td>\n",
              "      <td>S13037</td>\n",
              "      <td>20150414.0</td>\n",
              "      <td>0-00000000-0</td>\n",
              "      <td>20181118</td>\n",
              "      <td>1542499200</td>\n",
              "      <td>S13008</td>\n",
              "      <td>1132</td>\n",
              "      <td>2</td>\n",
              "      <td>CS008415000097</td>\n",
              "      <td>P070701017</td>\n",
              "      <td>1</td>\n",
              "      <td>81</td>\n",
              "    </tr>\n",
              "    <tr>\n",
              "      <th>2</th>\n",
              "      <td>CS031415000172</td>\n",
              "      <td>宇多田 貴美子</td>\n",
              "      <td>1.0</td>\n",
              "      <td>女性</td>\n",
              "      <td>1976-10-04</td>\n",
              "      <td>42.0</td>\n",
              "      <td>151-0053</td>\n",
              "      <td>東京都渋谷区代々木**********</td>\n",
              "      <td>S13031</td>\n",
              "      <td>20150529.0</td>\n",
              "      <td>D-20100325-C</td>\n",
              "      <td>20170712</td>\n",
              "      <td>1499817600</td>\n",
              "      <td>S14028</td>\n",
              "      <td>1102</td>\n",
              "      <td>1</td>\n",
              "      <td>CS028414000014</td>\n",
              "      <td>P060101005</td>\n",
              "      <td>1</td>\n",
              "      <td>170</td>\n",
              "    </tr>\n",
              "    <tr>\n",
              "      <th>3</th>\n",
              "      <td>CS028811000001</td>\n",
              "      <td>堀井 かおり</td>\n",
              "      <td>1.0</td>\n",
              "      <td>女性</td>\n",
              "      <td>1933-03-27</td>\n",
              "      <td>86.0</td>\n",
              "      <td>245-0016</td>\n",
              "      <td>神奈川県横浜市泉区和泉町**********</td>\n",
              "      <td>S14028</td>\n",
              "      <td>20160115.0</td>\n",
              "      <td>0-00000000-0</td>\n",
              "      <td>20190205</td>\n",
              "      <td>1549324800</td>\n",
              "      <td>S14042</td>\n",
              "      <td>1132</td>\n",
              "      <td>1</td>\n",
              "      <td>ZZ000000000000</td>\n",
              "      <td>P050301001</td>\n",
              "      <td>1</td>\n",
              "      <td>25</td>\n",
              "    </tr>\n",
              "    <tr>\n",
              "      <th>4</th>\n",
              "      <td>CS001215000145</td>\n",
              "      <td>田崎 美紀</td>\n",
              "      <td>1.0</td>\n",
              "      <td>女性</td>\n",
              "      <td>1995-03-29</td>\n",
              "      <td>24.0</td>\n",
              "      <td>144-0055</td>\n",
              "      <td>東京都大田区仲六郷**********</td>\n",
              "      <td>S13001</td>\n",
              "      <td>20170605.0</td>\n",
              "      <td>6-20090929-2</td>\n",
              "      <td>20180821</td>\n",
              "      <td>1534809600</td>\n",
              "      <td>S14025</td>\n",
              "      <td>1102</td>\n",
              "      <td>2</td>\n",
              "      <td>CS025415000050</td>\n",
              "      <td>P060102007</td>\n",
              "      <td>1</td>\n",
              "      <td>90</td>\n",
              "    </tr>\n",
              "  </tbody>\n",
              "</table>\n",
              "</div>"
            ],
            "text/plain": [
              "      customer_id customer_name  gender_cd  ...  product_cd quantity  amount\n",
              "0  CS021313000114        大野 あや子        1.0  ...  P070305012        1     158\n",
              "1  CS037613000071         六角 雅彦        9.0  ...  P070701017        1      81\n",
              "2  CS031415000172       宇多田 貴美子        1.0  ...  P060101005        1     170\n",
              "3  CS028811000001        堀井 かおり        1.0  ...  P050301001        1      25\n",
              "4  CS001215000145         田崎 美紀        1.0  ...  P060102007        1      90\n",
              "\n",
              "[5 rows x 20 columns]"
            ]
          },
          "metadata": {
            "tags": []
          },
          "execution_count": 77
        }
      ]
    },
    {
      "cell_type": "markdown",
      "metadata": {
        "id": "rJqRvB3fo2YC",
        "colab_type": "text"
      },
      "source": [
        "### merge\n",
        "merge(df_1, df_2, how=\"結合法\", on=\"キーワード\")\n",
        "\n",
        "how = inner, outer, left, right\n"
      ]
    },
    {
      "cell_type": "code",
      "metadata": {
        "id": "bioSzhFeoxdR",
        "colab_type": "code",
        "colab": {
          "base_uri": "https://localhost:8080/",
          "height": 395
        },
        "outputId": "5e8b2d7c-6b84-4391-d68a-a02f14bbc074"
      },
      "source": [
        "pd.merge(df_customer, df_receipt, how=\"inner\", on=\"customer_id\").head()"
      ],
      "execution_count": 79,
      "outputs": [
        {
          "output_type": "execute_result",
          "data": {
            "text/html": [
              "<div>\n",
              "<style scoped>\n",
              "    .dataframe tbody tr th:only-of-type {\n",
              "        vertical-align: middle;\n",
              "    }\n",
              "\n",
              "    .dataframe tbody tr th {\n",
              "        vertical-align: top;\n",
              "    }\n",
              "\n",
              "    .dataframe thead th {\n",
              "        text-align: right;\n",
              "    }\n",
              "</style>\n",
              "<table border=\"1\" class=\"dataframe\">\n",
              "  <thead>\n",
              "    <tr style=\"text-align: right;\">\n",
              "      <th></th>\n",
              "      <th>customer_id</th>\n",
              "      <th>customer_name</th>\n",
              "      <th>gender_cd</th>\n",
              "      <th>gender</th>\n",
              "      <th>birth_day</th>\n",
              "      <th>age</th>\n",
              "      <th>postal_cd</th>\n",
              "      <th>address</th>\n",
              "      <th>application_store_cd</th>\n",
              "      <th>application_date</th>\n",
              "      <th>status_cd</th>\n",
              "      <th>sales_ymd</th>\n",
              "      <th>sales_epoch</th>\n",
              "      <th>store_cd</th>\n",
              "      <th>receipt_no</th>\n",
              "      <th>receipt_sub_no</th>\n",
              "      <th>product_cd</th>\n",
              "      <th>quantity</th>\n",
              "      <th>amount</th>\n",
              "    </tr>\n",
              "  </thead>\n",
              "  <tbody>\n",
              "    <tr>\n",
              "      <th>0</th>\n",
              "      <td>CS031415000172</td>\n",
              "      <td>宇多田 貴美子</td>\n",
              "      <td>1</td>\n",
              "      <td>女性</td>\n",
              "      <td>1976-10-04</td>\n",
              "      <td>42</td>\n",
              "      <td>151-0053</td>\n",
              "      <td>東京都渋谷区代々木**********</td>\n",
              "      <td>S13031</td>\n",
              "      <td>20150529</td>\n",
              "      <td>D-20100325-C</td>\n",
              "      <td>20170507</td>\n",
              "      <td>1494115200</td>\n",
              "      <td>S13031</td>\n",
              "      <td>1102</td>\n",
              "      <td>1</td>\n",
              "      <td>P060103001</td>\n",
              "      <td>1</td>\n",
              "      <td>100</td>\n",
              "    </tr>\n",
              "    <tr>\n",
              "      <th>1</th>\n",
              "      <td>CS031415000172</td>\n",
              "      <td>宇多田 貴美子</td>\n",
              "      <td>1</td>\n",
              "      <td>女性</td>\n",
              "      <td>1976-10-04</td>\n",
              "      <td>42</td>\n",
              "      <td>151-0053</td>\n",
              "      <td>東京都渋谷区代々木**********</td>\n",
              "      <td>S13031</td>\n",
              "      <td>20150529</td>\n",
              "      <td>D-20100325-C</td>\n",
              "      <td>20171026</td>\n",
              "      <td>1508976000</td>\n",
              "      <td>S13031</td>\n",
              "      <td>1182</td>\n",
              "      <td>1</td>\n",
              "      <td>P090203004</td>\n",
              "      <td>1</td>\n",
              "      <td>320</td>\n",
              "    </tr>\n",
              "    <tr>\n",
              "      <th>2</th>\n",
              "      <td>CS031415000172</td>\n",
              "      <td>宇多田 貴美子</td>\n",
              "      <td>1</td>\n",
              "      <td>女性</td>\n",
              "      <td>1976-10-04</td>\n",
              "      <td>42</td>\n",
              "      <td>151-0053</td>\n",
              "      <td>東京都渋谷区代々木**********</td>\n",
              "      <td>S13031</td>\n",
              "      <td>20150529</td>\n",
              "      <td>D-20100325-C</td>\n",
              "      <td>20190325</td>\n",
              "      <td>1553472000</td>\n",
              "      <td>S13031</td>\n",
              "      <td>1192</td>\n",
              "      <td>1</td>\n",
              "      <td>P071401025</td>\n",
              "      <td>1</td>\n",
              "      <td>2400</td>\n",
              "    </tr>\n",
              "    <tr>\n",
              "      <th>3</th>\n",
              "      <td>CS031415000172</td>\n",
              "      <td>宇多田 貴美子</td>\n",
              "      <td>1</td>\n",
              "      <td>女性</td>\n",
              "      <td>1976-10-04</td>\n",
              "      <td>42</td>\n",
              "      <td>151-0053</td>\n",
              "      <td>東京都渋谷区代々木**********</td>\n",
              "      <td>S13031</td>\n",
              "      <td>20150529</td>\n",
              "      <td>D-20100325-C</td>\n",
              "      <td>20170111</td>\n",
              "      <td>1484092800</td>\n",
              "      <td>S13031</td>\n",
              "      <td>1132</td>\n",
              "      <td>2</td>\n",
              "      <td>P071203007</td>\n",
              "      <td>1</td>\n",
              "      <td>448</td>\n",
              "    </tr>\n",
              "    <tr>\n",
              "      <th>4</th>\n",
              "      <td>CS031415000172</td>\n",
              "      <td>宇多田 貴美子</td>\n",
              "      <td>1</td>\n",
              "      <td>女性</td>\n",
              "      <td>1976-10-04</td>\n",
              "      <td>42</td>\n",
              "      <td>151-0053</td>\n",
              "      <td>東京都渋谷区代々木**********</td>\n",
              "      <td>S13031</td>\n",
              "      <td>20150529</td>\n",
              "      <td>D-20100325-C</td>\n",
              "      <td>20190325</td>\n",
              "      <td>1553472000</td>\n",
              "      <td>S13031</td>\n",
              "      <td>1192</td>\n",
              "      <td>2</td>\n",
              "      <td>P070805011</td>\n",
              "      <td>1</td>\n",
              "      <td>258</td>\n",
              "    </tr>\n",
              "  </tbody>\n",
              "</table>\n",
              "</div>"
            ],
            "text/plain": [
              "      customer_id customer_name  gender_cd  ...  product_cd quantity  amount\n",
              "0  CS031415000172       宇多田 貴美子          1  ...  P060103001        1     100\n",
              "1  CS031415000172       宇多田 貴美子          1  ...  P090203004        1     320\n",
              "2  CS031415000172       宇多田 貴美子          1  ...  P071401025        1    2400\n",
              "3  CS031415000172       宇多田 貴美子          1  ...  P071203007        1     448\n",
              "4  CS031415000172       宇多田 貴美子          1  ...  P070805011        1     258\n",
              "\n",
              "[5 rows x 19 columns]"
            ]
          },
          "metadata": {
            "tags": []
          },
          "execution_count": 79
        }
      ]
    },
    {
      "cell_type": "markdown",
      "metadata": {
        "id": "1sI2mx_8BwYy",
        "colab_type": "text"
      },
      "source": [
        "## 日付型変換\n",
        "\n",
        "pd.to_datetimeをは日付型をYYYYMMDD形式に変換"
      ]
    },
    {
      "cell_type": "code",
      "metadata": {
        "id": "vZZYaqpttFc8",
        "colab_type": "code",
        "colab": {
          "base_uri": "https://localhost:8080/",
          "height": 125
        },
        "outputId": "4a45d3d3-4723-426b-df65-0371d63ceda0"
      },
      "source": [
        "pd.to_datetime(df_customer[\"birth_day\"]).dt.strftime(\"%Y/%m/%d\").head()"
      ],
      "execution_count": 80,
      "outputs": [
        {
          "output_type": "execute_result",
          "data": {
            "text/plain": [
              "0    1981/04/29\n",
              "1    1952/04/01\n",
              "2    1976/10/04\n",
              "3    1933/03/27\n",
              "4    1995/03/29\n",
              "Name: birth_day, dtype: object"
            ]
          },
          "metadata": {
            "tags": []
          },
          "execution_count": 80
        }
      ]
    }
  ]
}